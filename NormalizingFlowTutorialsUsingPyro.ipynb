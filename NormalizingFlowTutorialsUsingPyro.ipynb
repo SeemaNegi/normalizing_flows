{
  "nbformat": 4,
  "nbformat_minor": 0,
  "metadata": {
    "colab": {
      "name": "NormalizingFlowTutorialsUsingPyro.ipynb",
      "provenance": [],
      "authorship_tag": "ABX9TyPCiDpDiT5AqRKBSJJuW+5c"
    },
    "kernelspec": {
      "name": "python3",
      "display_name": "Python 3"
    },
    "language_info": {
      "name": "python"
    }
  },
  "cells": [
    {
      "cell_type": "markdown",
      "metadata": {
        "id": "1n_gAeoEEEeX"
      },
      "source": [
        "## This notebook contains the tutorials for Normalizing Flows using Pyro.\n",
        "\n",
        "**Pyro is a universal probabilistic programming language written in Python and supported by PyTorch on the backend. Pyro enables flexible and expressive deep probabilistic modeling.**\n",
        "\n",
        "**Normalizing Flows:-** Normalizing Flows are a method for constructing complex distributions by transforming a probability density through a series of invertible mappings. By repeatedly applying the rule for change of variables, the initial density 'flows' through the sequence of invertible mappings."
      ]
    },
    {
      "cell_type": "code",
      "metadata": {
        "colab": {
          "base_uri": "https://localhost:8080/"
        },
        "id": "RkBLxWltC7h0",
        "outputId": "2e28b757-136c-4a60-f1fa-b5556e5cbf8c"
      },
      "source": [
        "!pip install pyro-ppl"
      ],
      "execution_count": 2,
      "outputs": [
        {
          "output_type": "stream",
          "text": [
            "Collecting pyro-ppl\n",
            "\u001b[?25l  Downloading https://files.pythonhosted.org/packages/aa/7a/fbab572fd385154a0c07b0fa138683aa52e14603bb83d37b198e5f9269b1/pyro_ppl-1.6.0-py3-none-any.whl (634kB)\n",
            "\r\u001b[K     |▌                               | 10kB 16.4MB/s eta 0:00:01\r\u001b[K     |█                               | 20kB 22.5MB/s eta 0:00:01\r\u001b[K     |█▌                              | 30kB 16.6MB/s eta 0:00:01\r\u001b[K     |██                              | 40kB 15.3MB/s eta 0:00:01\r\u001b[K     |██▋                             | 51kB 8.3MB/s eta 0:00:01\r\u001b[K     |███                             | 61kB 9.6MB/s eta 0:00:01\r\u001b[K     |███▋                            | 71kB 8.1MB/s eta 0:00:01\r\u001b[K     |████▏                           | 81kB 8.9MB/s eta 0:00:01\r\u001b[K     |████▋                           | 92kB 8.9MB/s eta 0:00:01\r\u001b[K     |█████▏                          | 102kB 7.9MB/s eta 0:00:01\r\u001b[K     |█████▊                          | 112kB 7.9MB/s eta 0:00:01\r\u001b[K     |██████▏                         | 122kB 7.9MB/s eta 0:00:01\r\u001b[K     |██████▊                         | 133kB 7.9MB/s eta 0:00:01\r\u001b[K     |███████▎                        | 143kB 7.9MB/s eta 0:00:01\r\u001b[K     |███████▊                        | 153kB 7.9MB/s eta 0:00:01\r\u001b[K     |████████▎                       | 163kB 7.9MB/s eta 0:00:01\r\u001b[K     |████████▉                       | 174kB 7.9MB/s eta 0:00:01\r\u001b[K     |█████████▎                      | 184kB 7.9MB/s eta 0:00:01\r\u001b[K     |█████████▉                      | 194kB 7.9MB/s eta 0:00:01\r\u001b[K     |██████████▎                     | 204kB 7.9MB/s eta 0:00:01\r\u001b[K     |██████████▉                     | 215kB 7.9MB/s eta 0:00:01\r\u001b[K     |███████████▍                    | 225kB 7.9MB/s eta 0:00:01\r\u001b[K     |███████████▉                    | 235kB 7.9MB/s eta 0:00:01\r\u001b[K     |████████████▍                   | 245kB 7.9MB/s eta 0:00:01\r\u001b[K     |█████████████                   | 256kB 7.9MB/s eta 0:00:01\r\u001b[K     |█████████████▍                  | 266kB 7.9MB/s eta 0:00:01\r\u001b[K     |██████████████                  | 276kB 7.9MB/s eta 0:00:01\r\u001b[K     |██████████████▌                 | 286kB 7.9MB/s eta 0:00:01\r\u001b[K     |███████████████                 | 296kB 7.9MB/s eta 0:00:01\r\u001b[K     |███████████████▌                | 307kB 7.9MB/s eta 0:00:01\r\u001b[K     |████████████████                | 317kB 7.9MB/s eta 0:00:01\r\u001b[K     |████████████████▌               | 327kB 7.9MB/s eta 0:00:01\r\u001b[K     |█████████████████               | 337kB 7.9MB/s eta 0:00:01\r\u001b[K     |█████████████████▋              | 348kB 7.9MB/s eta 0:00:01\r\u001b[K     |██████████████████              | 358kB 7.9MB/s eta 0:00:01\r\u001b[K     |██████████████████▋             | 368kB 7.9MB/s eta 0:00:01\r\u001b[K     |███████████████████             | 378kB 7.9MB/s eta 0:00:01\r\u001b[K     |███████████████████▋            | 389kB 7.9MB/s eta 0:00:01\r\u001b[K     |████████████████████▏           | 399kB 7.9MB/s eta 0:00:01\r\u001b[K     |████████████████████▋           | 409kB 7.9MB/s eta 0:00:01\r\u001b[K     |█████████████████████▏          | 419kB 7.9MB/s eta 0:00:01\r\u001b[K     |█████████████████████▊          | 430kB 7.9MB/s eta 0:00:01\r\u001b[K     |██████████████████████▏         | 440kB 7.9MB/s eta 0:00:01\r\u001b[K     |██████████████████████▊         | 450kB 7.9MB/s eta 0:00:01\r\u001b[K     |███████████████████████▎        | 460kB 7.9MB/s eta 0:00:01\r\u001b[K     |███████████████████████▊        | 471kB 7.9MB/s eta 0:00:01\r\u001b[K     |████████████████████████▎       | 481kB 7.9MB/s eta 0:00:01\r\u001b[K     |████████████████████████▉       | 491kB 7.9MB/s eta 0:00:01\r\u001b[K     |█████████████████████████▎      | 501kB 7.9MB/s eta 0:00:01\r\u001b[K     |█████████████████████████▉      | 512kB 7.9MB/s eta 0:00:01\r\u001b[K     |██████████████████████████▍     | 522kB 7.9MB/s eta 0:00:01\r\u001b[K     |██████████████████████████▉     | 532kB 7.9MB/s eta 0:00:01\r\u001b[K     |███████████████████████████▍    | 542kB 7.9MB/s eta 0:00:01\r\u001b[K     |███████████████████████████▉    | 552kB 7.9MB/s eta 0:00:01\r\u001b[K     |████████████████████████████▍   | 563kB 7.9MB/s eta 0:00:01\r\u001b[K     |█████████████████████████████   | 573kB 7.9MB/s eta 0:00:01\r\u001b[K     |█████████████████████████████▍  | 583kB 7.9MB/s eta 0:00:01\r\u001b[K     |██████████████████████████████  | 593kB 7.9MB/s eta 0:00:01\r\u001b[K     |██████████████████████████████▌ | 604kB 7.9MB/s eta 0:00:01\r\u001b[K     |███████████████████████████████ | 614kB 7.9MB/s eta 0:00:01\r\u001b[K     |███████████████████████████████▌| 624kB 7.9MB/s eta 0:00:01\r\u001b[K     |████████████████████████████████| 634kB 7.9MB/s \n",
            "\u001b[?25hRequirement already satisfied: torch>=1.8.0 in /usr/local/lib/python3.7/dist-packages (from pyro-ppl) (1.8.1+cu101)\n",
            "Requirement already satisfied: opt-einsum>=2.3.2 in /usr/local/lib/python3.7/dist-packages (from pyro-ppl) (3.3.0)\n",
            "Requirement already satisfied: numpy>=1.7 in /usr/local/lib/python3.7/dist-packages (from pyro-ppl) (1.19.5)\n",
            "Requirement already satisfied: tqdm>=4.36 in /usr/local/lib/python3.7/dist-packages (from pyro-ppl) (4.41.1)\n",
            "Collecting pyro-api>=0.1.1\n",
            "  Downloading https://files.pythonhosted.org/packages/fc/81/957ae78e6398460a7230b0eb9b8f1cb954c5e913e868e48d89324c68cec7/pyro_api-0.1.2-py3-none-any.whl\n",
            "Requirement already satisfied: typing-extensions in /usr/local/lib/python3.7/dist-packages (from torch>=1.8.0->pyro-ppl) (3.7.4.3)\n",
            "Installing collected packages: pyro-api, pyro-ppl\n",
            "Successfully installed pyro-api-0.1.2 pyro-ppl-1.6.0\n"
          ],
          "name": "stdout"
        }
      ]
    },
    {
      "cell_type": "code",
      "metadata": {
        "id": "3yDcT7BECgDw"
      },
      "source": [
        "import torch\n",
        "import pyro\n",
        "import pyro.distributions as dist\n",
        "import pyro.distributions.transforms as T\n",
        "import matplotlib.pyplot as plt\n",
        "import seaborn as sns\n",
        "import os\n",
        "smoke_test = ('CI' in os.environ)"
      ],
      "execution_count": 3,
      "outputs": []
    },
    {
      "cell_type": "code",
      "metadata": {
        "id": "quJMcGQRCsSx"
      },
      "source": [
        "dist_x = dist.Normal(torch.zeros(1), torch.ones(1))\n",
        "exp_transform = T.ExpTransform()\n",
        "dist_y = dist.TransformedDistribution(dist_x, [exp_transform])"
      ],
      "execution_count": 4,
      "outputs": []
    },
    {
      "cell_type": "code",
      "metadata": {
        "colab": {
          "base_uri": "https://localhost:8080/",
          "height": 281
        },
        "id": "JdFXfDgVDwOf",
        "outputId": "74bf5f3a-9577-44dd-da70-4445f604e115"
      },
      "source": [
        "plt.subplot(1, 2, 1)\n",
        "plt.hist(dist_x.sample([1000]).numpy(), bins=50)\n",
        "plt.title('Standard Normal')\n",
        "plt.subplot(1, 2, 2)\n",
        "plt.hist(dist_y.sample([1000]).numpy(), bins=50)\n",
        "plt.title('Standard Log-Normal')\n",
        "plt.show()"
      ],
      "execution_count": 5,
      "outputs": [
        {
          "output_type": "display_data",
          "data": {
            "image/png": "[encoded data removed]",
            "text/plain": [
              "<Figure size 432x288 with 2 Axes>"
            ]
          },
          "metadata": {
            "tags": [],
            "needs_background": "light"
          }
        }
      ]
    },
    {
      "cell_type": "code",
      "metadata": {
        "colab": {
          "base_uri": "https://localhost:8080/",
          "height": 281
        },
        "id": "YE0D_Se1DwQG",
        "outputId": "bcf0b866-b077-496b-df40-d63988fd8020"
      },
      "source": [
        "dist_x = dist.Normal(torch.zeros(1), torch.ones(1))\n",
        "affine_transform = T.AffineTransform(loc=3, scale=0.5)\n",
        "exp_transform = T.ExpTransform()\n",
        "dist_y = dist.TransformedDistribution(dist_x, [affine_transform, exp_transform])\n",
        "\n",
        "plt.subplot(1, 2, 1)\n",
        "plt.hist(dist_x.sample([1000]).numpy(), bins=50)\n",
        "plt.title('Standard Normal')\n",
        "plt.subplot(1, 2, 2)\n",
        "plt.hist(dist_y.sample([1000]).numpy(), bins=50)\n",
        "plt.title('Log-Normal')\n",
        "plt.show()"
      ],
      "execution_count": 6,
      "outputs": [
        {
          "output_type": "display_data",
          "data": {
            "image/png": "[encoded data removed]",
            "text/plain": [
              "<Figure size 432x288 with 2 Axes>"
            ]
          },
          "metadata": {
            "tags": [],
            "needs_background": "light"
          }
        }
      ]
    },
    {
      "cell_type": "markdown",
      "metadata": {
        "id": "5bFNrR7KEDPh"
      },
      "source": [
        "# Learnable Univariate Distributions in Pyro"
      ]
    },
    {
      "cell_type": "code",
      "metadata": {
        "id": "VtJIsO7pDwUh"
      },
      "source": [
        ""
      ],
      "execution_count": null,
      "outputs": []
    },
    {
      "cell_type": "code",
      "metadata": {
        "id": "Vi7Da3sJFgfj"
      },
      "source": [
        ""
      ],
      "execution_count": null,
      "outputs": []
    }
  ]
}